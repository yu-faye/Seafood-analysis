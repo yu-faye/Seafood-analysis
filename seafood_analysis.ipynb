{
  "cells": [
    {
      "cell_type": "markdown",
      "metadata": {},
      "source": [
        "# Norwegian Seafood Council Export Statistics Analysis\n",
        "\n",
        "This notebook provides an interactive analysis of Norwegian seafood export data.\n",
        "\n",
        "## Features\n",
        "- Data loading and cleaning\n",
        "- Statistical analysis\n",
        "- Interactive visualizations\n",
        "- Key insights generation\n"
      ]
    }
  ],
  "metadata": {
    "language_info": {
      "name": "python"
    }
  },
  "nbformat": 4,
  "nbformat_minor": 2
}
